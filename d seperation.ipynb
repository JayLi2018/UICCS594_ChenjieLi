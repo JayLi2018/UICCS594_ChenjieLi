{
 "cells": [
  {
   "cell_type": "code",
   "execution_count": 8,
   "id": "813a9c04-3ee8-48f1-bc2c-c3c770901a69",
   "metadata": {},
   "outputs": [
    {
     "name": "stdout",
     "output_type": "stream",
     "text": [
      "D-separation sets for X and Y: [{'B', 'C'}, {'D', 'C'}, {'B', 'D', 'C'}]\n"
     ]
    }
   ],
   "source": [
    "from itertools import combinations\n",
    "\n",
    "\n",
    "import networkx as nx\n",
    "\n",
    "def is_d_separated(graph, node_a, node_b, conditioned_on):\n",
    "    \"\"\"\n",
    "    Determines if two nodes are d-separated given a conditioning set.\n",
    "    Args:\n",
    "        graph (nx.DiGraph): The causal graph as a directed acyclic graph.\n",
    "        node_a (str): First node.\n",
    "        node_b (str): Second node.\n",
    "        conditioned_on (set): Set of nodes conditioned on.\n",
    "    Returns:\n",
    "        bool: True if node_a and node_b are d-separated, False otherwise.\n",
    "    \"\"\"\n",
    "    def blocked(path, conditioning_set):\n",
    "        \"\"\"\n",
    "        Check if a path is blocked by the conditioning set.\n",
    "        \"\"\"\n",
    "        for i in range(len(path) - 1):\n",
    "            u, v = path[i], path[i + 1]\n",
    "            if graph.has_edge(u, v):  # u -> v\n",
    "                if u in conditioning_set:  # collider blocked by conditioning\n",
    "                    return True\n",
    "            elif graph.has_edge(v, u):  # u <- v\n",
    "                if v in conditioning_set:  # collider\n",
    "                    return True\n",
    "        return False\n",
    "    \n",
    "    for path in nx.all_simple_paths(graph.to_undirected(), source=node_a, target=node_b):\n",
    "        if not blocked(path, conditioned_on):\n",
    "            return False\n",
    "    return True\n",
    "\n",
    "\n",
    "def all_d_separation_sets(graph, node_a, node_b):\n",
    "    \"\"\"\n",
    "    Finds all conditioning sets that d-separate two nodes.\n",
    "    \"\"\"\n",
    "    nodes = set(graph.nodes) - {node_a, node_b}\n",
    "    all_conditioning_sets = []\n",
    "    for r in range(len(nodes) + 1):\n",
    "        for conditioned_on in combinations(nodes, r):\n",
    "            if is_d_separated(graph, node_a, node_b, set(conditioned_on)):\n",
    "                all_conditioning_sets.append(set(conditioned_on))\n",
    "    return all_conditioning_sets\n",
    "\n",
    "\n",
    "# Define the causal graph\n",
    "edges = [\n",
    "    (\"A\", \"C\"),\n",
    "    (\"B\", \"C\"),\n",
    "    (\"B\", \"D\"),\n",
    "    (\"C\", \"E\"),\n",
    "    (\"D\", \"E\")\n",
    "]\n",
    "graph = nx.DiGraph(edges)\n",
    "\n",
    "\n",
    "\n",
    "# Find all d-separation sets for X and Y\n",
    "d_separation_sets = all_d_separation_sets(graph, \"A\", \"E\")\n",
    "print(f\"D-separation sets for {node_a} and {node_b}: {d_separation_sets}\")\n"
   ]
  }
 ],
 "metadata": {
  "kernelspec": {
   "display_name": "Python 3 (ipykernel)",
   "language": "python",
   "name": "python3"
  },
  "language_info": {
   "codemirror_mode": {
    "name": "ipython",
    "version": 3
   },
   "file_extension": ".py",
   "mimetype": "text/x-python",
   "name": "python",
   "nbconvert_exporter": "python",
   "pygments_lexer": "ipython3",
   "version": "3.13.0"
  }
 },
 "nbformat": 4,
 "nbformat_minor": 5
}
