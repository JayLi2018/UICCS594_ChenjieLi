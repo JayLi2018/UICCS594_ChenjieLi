{
 "cells": [
  {
   "cell_type": "code",
   "execution_count": 4,
   "id": "cc84fdd6-c4fb-4840-b393-be7561eace3c",
   "metadata": {},
   "outputs": [],
   "source": [
    "import numpy as np\n",
    "import pandas as pd"
   ]
  },
  {
   "cell_type": "code",
   "execution_count": 7,
   "id": "8bc60fb8-a9ed-48e5-881d-e55a95e439e9",
   "metadata": {},
   "outputs": [],
   "source": [
    "np.random.seed(42)\n",
    "\n",
    "# Generate the Game table\n",
    "num_games = 1000\n",
    "game_data = {\n",
    "    \"id\": range(1, num_games + 1),\n",
    "    \"outcome\": np.random.choice([0, 1], num_games),\n",
    "    \"awaystrength\": np.round(np.random.uniform(0, 1, num_games), 2)\n",
    "}\n",
    "game_df = pd.DataFrame(game_data)\n",
    "\n",
    "# Generate the PGS table\n",
    "num_pgs = 900\n",
    "pgs_data = {\n",
    "    \"id\": range(1, num_pgs + 1),\n",
    "    \"points\": np.random.randint(0, 40, num_pgs),\n",
    "    \"assists\": np.random.randint(0, 15, num_pgs),\n",
    "    \"pct\": np.round(np.random.uniform(0.3, 1.0, num_pgs), 2),\n",
    "    \"tov\": np.random.randint(0, 8, num_pgs)\n",
    "}\n",
    "pgs_df = pd.DataFrame(pgs_data)\n",
    "pgs_df[\"points\"] = (pgs_df[\"pct\"] * 40).astype(int)  # Correlation between pct and points\n",
    "\n",
    "# Generate the PGSM table\n",
    "pgsm_data = {\n",
    "    \"id\": range(1, num_pgs + 1),\n",
    "    \"pgs_id\": pgs_df[\"id\"],\n",
    "    \"game_id\": np.random.choice(game_df[\"id\"], num_pgs)\n",
    "}\n",
    "pgsm_df = pd.DataFrame(pgsm_data)\n",
    "\n",
    "# Generate the TGS table\n",
    "num_tgs = 800\n",
    "tgs_data = {\n",
    "    \"id\": range(1, num_tgs + 1),\n",
    "    \"tpts\": np.random.randint(80, 130, num_tgs),\n",
    "    \"opts\": np.random.randint(80, 130, num_tgs)\n",
    "}\n",
    "tgs_df = pd.DataFrame(tgs_data)\n",
    "\n",
    "# Generate the TGSM table\n",
    "tgsm_data = {\n",
    "    \"id\": range(1, num_tgs + 1),\n",
    "    \"tgs_id\": tgs_df[\"id\"],\n",
    "    \"game_id\": np.random.choice(game_df[\"id\"], num_tgs)\n",
    "}\n",
    "tgsm_df = pd.DataFrame(tgsm_data)\n",
    "\n",
    "# Enforce correlation between game outcome and tpts in TGS\n",
    "game_outcomes = game_df.set_index(\"id\")[\"outcome\"]\n",
    "tgs_df[\"tpts\"] = np.where(\n",
    "    tgsm_df[\"game_id\"].map(game_outcomes) == 1,  # Home wins\n",
    "    tgs_df[\"opts\"] + np.random.randint(5, 15, len(tgs_df)),  # Home team scores more\n",
    "    tgs_df[\"opts\"] - np.random.randint(5, 15, len(tgs_df))  # Away team scores more\n",
    ")\n"
   ]
  }
 ],
 "metadata": {
  "kernelspec": {
   "display_name": "Python 3 (ipykernel)",
   "language": "python",
   "name": "python3"
  },
  "language_info": {
   "codemirror_mode": {
    "name": "ipython",
    "version": 3
   },
   "file_extension": ".py",
   "mimetype": "text/x-python",
   "name": "python",
   "nbconvert_exporter": "python",
   "pygments_lexer": "ipython3",
   "version": "3.8.0"
  }
 },
 "nbformat": 4,
 "nbformat_minor": 5
}
